{
  "cells": [
    {
      "cell_type": "code",
      "execution_count": null,
      "metadata": {
        "colab": {
          "base_uri": "https://localhost:8080/"
        },
        "id": "WETfehTOLC1q",
        "outputId": "22f99f40-a48e-45e0-d7cb-a1486b6c350e"
      },
      "outputs": [
        {
          "output_type": "stream",
          "name": "stdout",
          "text": [
            "Mounted at /content/gdrive\n"
          ]
        }
      ],
      "source": [
        "# Google drive was used to access the trained models weights\n",
        "from google.colab import drive\n",
        "\n",
        "drive.mount('/content/gdrive')"
      ]
    },
    {
      "cell_type": "code",
      "source": [
        "# Install Robowflow package, to easily import the test dataset to google colab\n",
        "!pip install roboflow\n",
        "\n",
        "# Clear the output to keep the notebook clean\n",
        "from IPython import display\n",
        "display.clear_output()"
      ],
      "metadata": {
        "id": "xaBXehX4s0HT"
      },
      "execution_count": null,
      "outputs": []
    },
    {
      "cell_type": "code",
      "execution_count": null,
      "metadata": {
        "id": "6QpGpdSlLlBd"
      },
      "outputs": [],
      "source": [
        "#Install Ultralytics package, which was used to load the trained YOLO model\n",
        "!pip install ultralytics\n",
        "\n",
        "from IPython import display\n",
        "display.clear_output()"
      ]
    },
    {
      "cell_type": "code",
      "execution_count": null,
      "metadata": {
        "id": "2y15FGO7LvkA"
      },
      "outputs": [],
      "source": [
        "# Import YOLO class from the Ultralytics library to load trained YOLO models\n",
        "from ultralytics import YOLO"
      ]
    },
    {
      "cell_type": "code",
      "source": [
        "from roboflow import Roboflow # Import Roboflow to access our datasets that is hosted on Roboflow\n",
        "rf = Roboflow(api_key=\"\") # Roboflow API key\n",
        "project = rf.workspace(\"basr\").project(\"basr_test\") # Access BASR project inside Robowflow workspace\n",
        "version = project.version(12) # Get specific version of the dataset\n",
        "dataset = version.download(\"yolov8\") # Download dataset in specifc YOLO format"
      ],
      "metadata": {
        "colab": {
          "base_uri": "https://localhost:8080/"
        },
        "id": "3pgiUNA27ZJW",
        "outputId": "b0ac7568-26be-4740-9373-4c152c27800a"
      },
      "execution_count": null,
      "outputs": [
        {
          "output_type": "stream",
          "name": "stdout",
          "text": [
            "loading Roboflow workspace...\n",
            "loading Roboflow project...\n"
          ]
        },
        {
          "output_type": "stream",
          "name": "stderr",
          "text": [
            "Downloading Dataset Version Zip in BASR_v2-12 to yolov8:: 100%|██████████| 365596/365596 [00:21<00:00, 17148.13it/s]"
          ]
        },
        {
          "output_type": "stream",
          "name": "stdout",
          "text": [
            "\n"
          ]
        },
        {
          "output_type": "stream",
          "name": "stderr",
          "text": [
            "\n",
            "Extracting Dataset Version Zip to BASR_v2-12 in yolov8:: 100%|██████████| 10911/10911 [00:01<00:00, 6739.02it/s]\n"
          ]
        }
      ]
    },
    {
      "cell_type": "code",
      "source": [
        "savePath = '/content/gdrive/MyDrive/BASR_Project' # Define the path where the results will be saved\n",
        "fileName = 'BASR_v3_Validation' # Define the folder name"
      ],
      "metadata": {
        "id": "-zdxm0s0WSao"
      },
      "execution_count": null,
      "outputs": []
    },
    {
      "cell_type": "code",
      "source": [
        "model = YOLO(\"/content/BASR2.pt\")"
      ],
      "metadata": {
        "id": "JQlqw4nD_2hK"
      },
      "execution_count": null,
      "outputs": []
    },
    {
      "cell_type": "code",
      "source": [
        "results = model.val(data='/content/BASR_v2-12/data.yaml', # dataset configuration\n",
        "                    project = savePath,\n",
        "                    name = fileName)"
      ],
      "metadata": {
        "colab": {
          "base_uri": "https://localhost:8080/"
        },
        "id": "2uJWFtkdAzFd",
        "outputId": "ac72c632-cde6-470f-97fb-139360e2b424"
      },
      "execution_count": null,
      "outputs": [
        {
          "output_type": "stream",
          "name": "stdout",
          "text": [
            "Ultralytics 8.3.118 🚀 Python-3.11.12 torch-2.6.0+cu124 CUDA:0 (NVIDIA L4, 22693MiB)\n",
            "YOLO11m summary (fused): 125 layers, 20,030,803 parameters, 0 gradients, 67.6 GFLOPs\n",
            "\u001b[34m\u001b[1mval: \u001b[0mFast image access ✅ (ping: 0.0±0.0 ms, read: 1737.7±448.0 MB/s, size: 52.9 KB)\n"
          ]
        },
        {
          "output_type": "stream",
          "name": "stderr",
          "text": [
            "\u001b[34m\u001b[1mval: \u001b[0mScanning /content/BASR_v2-12/valid/labels.cache... 100 images, 0 backgrounds, 0 corrupt: 100%|██████████| 100/100 [00:00<?, ?it/s]\n",
            "                 Class     Images  Instances      Box(P          R      mAP50  mAP50-95): 100%|██████████| 7/7 [00:02<00:00,  2.69it/s]\n"
          ]
        },
        {
          "output_type": "stream",
          "name": "stdout",
          "text": [
            "                   all        100        471      0.759      0.667      0.682      0.338\n",
            "Speed: 2.2ms preprocess, 10.5ms inference, 0.0ms loss, 6.8ms postprocess per image\n",
            "Results saved to \u001b[1mruns/detect/val7\u001b[0m\n"
          ]
        }
      ]
    },
    {
      "cell_type": "code",
      "source": [
        "print(f\"mAP@0.5: {results.box.map50}\")\n",
        "print(f\"mAP@0.5:0.95: {results.box.map}\")\n",
        "print(f\"F1 Score: {results.box.f1}\")"
      ],
      "metadata": {
        "id": "AXr1bfDOGDJW"
      },
      "execution_count": null,
      "outputs": []
    }
  ],
  "metadata": {
    "colab": {
      "provenance": [],
      "gpuType": "L4"
    },
    "kernelspec": {
      "display_name": "Python 3",
      "name": "python3"
    },
    "language_info": {
      "name": "python"
    },
    "accelerator": "GPU"
  },
  "nbformat": 4,
  "nbformat_minor": 0
}