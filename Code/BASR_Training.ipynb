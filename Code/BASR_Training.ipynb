{
  "cells": [
    {
      "cell_type": "code",
      "execution_count": null,
      "metadata": {
        "colab": {
          "base_uri": "https://localhost:8080/"
        },
        "id": "WETfehTOLC1q",
        "outputId": "22f99f40-a48e-45e0-d7cb-a1486b6c350e"
      },
      "outputs": [
        {
          "output_type": "stream",
          "name": "stdout",
          "text": [
            "Mounted at /content/gdrive\n"
          ]
        }
      ],
      "source": [
        "# Google drive was used to save the model results\n",
        "from google.colab import drive\n",
        "\n",
        "drive.mount('/content/gdrive')"
      ]
    },
    {
      "cell_type": "code",
      "source": [
        "# Install Robowflow package, to easily import the training dataset to google colab\n",
        "!pip install roboflow\n",
        "\n",
        "# Clear the output to keep the notebook clean\n",
        "from IPython import display\n",
        "display.clear_output()"
      ],
      "metadata": {
        "id": "xaBXehX4s0HT"
      },
      "execution_count": null,
      "outputs": []
    },
    {
      "cell_type": "code",
      "execution_count": null,
      "metadata": {
        "id": "6QpGpdSlLlBd"
      },
      "outputs": [],
      "source": [
        "#Install Ultralytics package, which was used to train the YOLO model\n",
        "!pip install ultralytics\n",
        "\n",
        "from IPython import display\n",
        "display.clear_output()"
      ]
    },
    {
      "cell_type": "code",
      "execution_count": null,
      "metadata": {
        "colab": {
          "base_uri": "https://localhost:8080/"
        },
        "id": "2y15FGO7LvkA",
        "outputId": "d5eb4c73-6cb1-4cff-e3bc-dde65d234881"
      },
      "outputs": [
        {
          "output_type": "stream",
          "name": "stdout",
          "text": [
            "Creating new Ultralytics Settings v0.0.6 file ✅ \n",
            "View Ultralytics Settings with 'yolo settings' or at '/root/.config/Ultralytics/settings.json'\n",
            "Update Settings with 'yolo settings key=value', i.e. 'yolo settings runs_dir=path/to/dir'. For help see https://docs.ultralytics.com/quickstart/#ultralytics-settings.\n"
          ]
        }
      ],
      "source": [
        "# Import YOLO class from the Ultralytics library to create and train YOLO models\n",
        "from ultralytics import YOLO"
      ]
    },
    {
      "cell_type": "code",
      "source": [
        "from roboflow import Roboflow # Import Roboflow to access our datasets that is hosted on Roboflow\n",
        "rf = Roboflow(api_key=\"\") # Roboflow API key\n",
        "project = rf.workspace(\"basr\").project(\"basr_v1\") # Access BASR project inside Robowflow workspace\n",
        "version = project.version(1) # Get specific version of the dataset\n",
        "dataset = version.download(\"yolov8\") # Download dataset in specifc YOLO format"
      ],
      "metadata": {
        "colab": {
          "base_uri": "https://localhost:8080/"
        },
        "id": "YIXdwos18PvO",
        "outputId": "2d70cfaf-8b05-42b6-b3d3-e15ad36e9a87"
      },
      "execution_count": null,
      "outputs": [
        {
          "output_type": "stream",
          "name": "stdout",
          "text": [
            "loading Roboflow workspace...\n",
            "loading Roboflow project...\n"
          ]
        },
        {
          "output_type": "stream",
          "name": "stderr",
          "text": [
            "Downloading Dataset Version Zip in BASR_v1-1 to yolov8:: 100%|██████████| 388403/388403 [00:22<00:00, 17626.56it/s]"
          ]
        },
        {
          "output_type": "stream",
          "name": "stdout",
          "text": [
            "\n"
          ]
        },
        {
          "output_type": "stream",
          "name": "stderr",
          "text": [
            "\n",
            "Extracting Dataset Version Zip to BASR_v1-1 in yolov8:: 100%|██████████| 11583/11583 [00:01<00:00, 6306.31it/s]\n"
          ]
        }
      ]
    },
    {
      "cell_type": "code",
      "execution_count": null,
      "metadata": {
        "id": "Q-5WfxvSL4Dm"
      },
      "outputs": [],
      "source": [
        "# Load a specific YOLO model, here is (version: 8, size: nano) model\n",
        "model = YOLO(\"YOLOv8n.pt\")"
      ]
    },
    {
      "cell_type": "code",
      "execution_count": null,
      "metadata": {
        "id": "cgtcqd8IMEZB"
      },
      "outputs": [],
      "source": [
        "savePath = '/content/gdrive/MyDrive/BASR_Project' # Define the path where the results will be saved\n",
        "fileName = 'BASR_v3' # Define the folder name"
      ]
    },
    {
      "cell_type": "code",
      "execution_count": null,
      "metadata": {
        "id": "umcOEnUUMdvy"
      },
      "outputs": [],
      "source": [
        "# Train the model on our dataset\n",
        "results = model.train(data=\"/content/BASR_v1-1/data.yaml\", # Path to the dataset (data.yaml is a file that have the dataset configuration)\n",
        "                      epochs=100,\n",
        "                      optimizer='AdamW',\n",
        "                      batch=16,\n",
        "                      project = savePath,\n",
        "                      name = fileName)"
      ]
    },
    {
      "cell_type": "code",
      "source": [
        "results = model.val()"
      ],
      "metadata": {
        "id": "MHl74pxsZPjq"
      },
      "execution_count": null,
      "outputs": []
    }
  ],
  "metadata": {
    "colab": {
      "provenance": [],
      "gpuType": "L4"
    },
    "kernelspec": {
      "display_name": "Python 3",
      "name": "python3"
    },
    "language_info": {
      "name": "python"
    },
    "accelerator": "GPU"
  },
  "nbformat": 4,
  "nbformat_minor": 0
}